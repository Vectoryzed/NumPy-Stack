{
 "cells": [
  {
   "cell_type": "code",
   "execution_count": 4,
   "metadata": {
    "collapsed": true
   },
   "outputs": [],
   "source": [
    "%matplotlib inline\n",
    "import matplotlib.pyplot as plt\n",
    "from scipy.stats import norm\n",
    "import numpy as np\n",
    "r = np.random.randn(10000)"
   ]
  },
  {
   "cell_type": "code",
   "execution_count": 6,
   "metadata": {
    "scrolled": true
   },
   "outputs": [
    {
     "data": {
      "text/plain": [
       "(array([   1.,    0.,    0.,    0.,    1.,    1.,    0.,    4.,    2.,\n",
       "           6.,    7.,    1.,   10.,    8.,   13.,   14.,   12.,   15.,\n",
       "          24.,   34.,   33.,   43.,   35.,   53.,   70.,   73.,   59.,\n",
       "          66.,   96.,  102.,  116.,  116.,  152.,  149.,  173.,  195.,\n",
       "         187.,  213.,  213.,  218.,  236.,  249.,  268.,  257.,  281.,\n",
       "         288.,  288.,  290.,  287.,  284.,  283.,  306.,  285.,  252.,\n",
       "         283.,  279.,  254.,  243.,  226.,  223.,  203.,  206.,  183.,\n",
       "         171.,  158.,  133.,  130.,  151.,   90.,   90.,   75.,   71.,\n",
       "          65.,   69.,   44.,   32.,   32.,   32.,   43.,   25.,   15.,\n",
       "          21.,   14.,   11.,   15.,    8.,    7.,    6.,    7.,    2.,\n",
       "           6.,    2.,    1.,    1.,    0.,    1.,    0.,    2.,    0.,    1.]),\n",
       " array([ -3.59475009e+00,  -3.52139320e+00,  -3.44803630e+00,\n",
       "         -3.37467941e+00,  -3.30132251e+00,  -3.22796562e+00,\n",
       "         -3.15460872e+00,  -3.08125183e+00,  -3.00789493e+00,\n",
       "         -2.93453804e+00,  -2.86118114e+00,  -2.78782424e+00,\n",
       "         -2.71446735e+00,  -2.64111045e+00,  -2.56775356e+00,\n",
       "         -2.49439666e+00,  -2.42103977e+00,  -2.34768287e+00,\n",
       "         -2.27432598e+00,  -2.20096908e+00,  -2.12761219e+00,\n",
       "         -2.05425529e+00,  -1.98089840e+00,  -1.90754150e+00,\n",
       "         -1.83418461e+00,  -1.76082771e+00,  -1.68747082e+00,\n",
       "         -1.61411392e+00,  -1.54075703e+00,  -1.46740013e+00,\n",
       "         -1.39404324e+00,  -1.32068634e+00,  -1.24732945e+00,\n",
       "         -1.17397255e+00,  -1.10061566e+00,  -1.02725876e+00,\n",
       "         -9.53901866e-01,  -8.80544970e-01,  -8.07188075e-01,\n",
       "         -7.33831180e-01,  -6.60474285e-01,  -5.87117390e-01,\n",
       "         -5.13760495e-01,  -4.40403599e-01,  -3.67046704e-01,\n",
       "         -2.93689809e-01,  -2.20332914e-01,  -1.46976019e-01,\n",
       "         -7.36191236e-02,  -2.62228453e-04,   7.30946667e-02,\n",
       "          1.46451562e-01,   2.19808457e-01,   2.93165352e-01,\n",
       "          3.66522247e-01,   4.39879143e-01,   5.13236038e-01,\n",
       "          5.86592933e-01,   6.59949828e-01,   7.33306723e-01,\n",
       "          8.06663618e-01,   8.80020514e-01,   9.53377409e-01,\n",
       "          1.02673430e+00,   1.10009120e+00,   1.17344809e+00,\n",
       "          1.24680499e+00,   1.32016188e+00,   1.39351878e+00,\n",
       "          1.46687567e+00,   1.54023257e+00,   1.61358947e+00,\n",
       "          1.68694636e+00,   1.76030326e+00,   1.83366015e+00,\n",
       "          1.90701705e+00,   1.98037394e+00,   2.05373084e+00,\n",
       "          2.12708773e+00,   2.20044463e+00,   2.27380152e+00,\n",
       "          2.34715842e+00,   2.42051531e+00,   2.49387221e+00,\n",
       "          2.56722910e+00,   2.64058600e+00,   2.71394289e+00,\n",
       "          2.78729979e+00,   2.86065668e+00,   2.93401358e+00,\n",
       "          3.00737047e+00,   3.08072737e+00,   3.15408426e+00,\n",
       "          3.22744116e+00,   3.30079805e+00,   3.37415495e+00,\n",
       "          3.44751184e+00,   3.52086874e+00,   3.59422563e+00,\n",
       "          3.66758253e+00,   3.74093943e+00]),\n",
       " <a list of 100 Patch objects>)"
      ]
     },
     "execution_count": 6,
     "metadata": {},
     "output_type": "execute_result"
    },
    {
     "data": {
      "image/png": "[encoded data removed]",
      "text/plain": [
       "<matplotlib.figure.Figure at 0x1186b871b00>"
      ]
     },
     "metadata": {},
     "output_type": "display_data"
    }
   ],
   "source": [
    "# Show it's standard dist.\n",
    "plt.hist(r, bins=100)"
   ]
  },
  {
   "cell_type": "code",
   "execution_count": 7,
   "metadata": {
    "collapsed": true
   },
   "outputs": [],
   "source": [
    "# Sample from dist. with abbritatry mean and dist.\n",
    "# NEed to scale and add mean\n",
    "r = 10*np.random.randn(10000) + 5"
   ]
  },
  {
   "cell_type": "code",
   "execution_count": 9,
   "metadata": {
    "scrolled": true
   },
   "outputs": [
    {
     "data": {
      "text/plain": [
       "(array([   1.,    0.,    0.,    0.,    0.,    0.,    0.,    0.,    0.,\n",
       "           0.,    2.,    1.,    5.,    2.,    5.,    4.,    8.,    9.,\n",
       "          14.,   17.,   17.,   11.,   29.,   37.,   34.,   41.,   47.,\n",
       "          52.,   56.,   74.,   84.,   90.,  106.,  120.,  122.,  153.,\n",
       "         162.,  154.,  185.,  231.,  216.,  247.,  225.,  279.,  270.,\n",
       "         289.,  303.,  308.,  312.,  311.,  347.,  315.,  322.,  313.,\n",
       "         340.,  296.,  292.,  267.,  267.,  245.,  234.,  224.,  252.,\n",
       "         172.,  182.,  180.,  140.,  128.,  128.,  113.,   88.,   95.,\n",
       "          68.,   49.,   38.,   41.,   44.,   32.,   26.,   22.,   29.,\n",
       "          17.,   12.,   12.,    9.,    3.,   10.,    2.,    2.,    1.,\n",
       "           3.,    1.,    2.,    0.,    0.,    2.,    0.,    1.,    0.,    1.]),\n",
       " array([-35.80996212, -35.00997825, -34.20999437, -33.4100105 ,\n",
       "        -32.61002663, -31.81004276, -31.01005888, -30.21007501,\n",
       "        -29.41009114, -28.61010727, -27.81012339, -27.01013952,\n",
       "        -26.21015565, -25.41017178, -24.61018791, -23.81020403,\n",
       "        -23.01022016, -22.21023629, -21.41025242, -20.61026854,\n",
       "        -19.81028467, -19.0103008 , -18.21031693, -17.41033306,\n",
       "        -16.61034918, -15.81036531, -15.01038144, -14.21039757,\n",
       "        -13.41041369, -12.61042982, -11.81044595, -11.01046208,\n",
       "        -10.2104782 ,  -9.41049433,  -8.61051046,  -7.81052659,\n",
       "         -7.01054272,  -6.21055884,  -5.41057497,  -4.6105911 ,\n",
       "         -3.81060723,  -3.01062335,  -2.21063948,  -1.41065561,\n",
       "         -0.61067174,   0.18931213,   0.98929601,   1.78927988,\n",
       "          2.58926375,   3.38924762,   4.1892315 ,   4.98921537,\n",
       "          5.78919924,   6.58918311,   7.38916699,   8.18915086,\n",
       "          8.98913473,   9.7891186 ,  10.58910247,  11.38908635,\n",
       "         12.18907022,  12.98905409,  13.78903796,  14.58902184,\n",
       "         15.38900571,  16.18898958,  16.98897345,  17.78895732,\n",
       "         18.5889412 ,  19.38892507,  20.18890894,  20.98889281,\n",
       "         21.78887669,  22.58886056,  23.38884443,  24.1888283 ,\n",
       "         24.98881218,  25.78879605,  26.58877992,  27.38876379,\n",
       "         28.18874766,  28.98873154,  29.78871541,  30.58869928,\n",
       "         31.38868315,  32.18866703,  32.9886509 ,  33.78863477,\n",
       "         34.58861864,  35.38860251,  36.18858639,  36.98857026,\n",
       "         37.78855413,  38.588538  ,  39.38852188,  40.18850575,\n",
       "         40.98848962,  41.78847349,  42.58845737,  43.38844124,  44.18842511]),\n",
       " <a list of 100 Patch objects>)"
      ]
     },
     "execution_count": 9,
     "metadata": {},
     "output_type": "execute_result"
    },
    {
     "data": {
      "image/png": "[encoded data removed]",
      "text/plain": [
       "<matplotlib.figure.Figure at 0x1186bf94c88>"
      ]
     },
     "metadata": {},
     "output_type": "display_data"
    }
   ],
   "source": [
    "plt.hist(r, bins=100)"
   ]
  }
 ],
 "metadata": {
  "kernelspec": {
   "display_name": "Python 3",
   "language": "python",
   "name": "python3"
  },
  "language_info": {
   "codemirror_mode": {
    "name": "ipython",
    "version": 3
   },
   "file_extension": ".py",
   "mimetype": "text/x-python",
   "name": "python",
   "nbconvert_exporter": "python",
   "pygments_lexer": "ipython3",
   "version": "3.6.1"
  }
 },
 "nbformat": 4,
 "nbformat_minor": 2
}
