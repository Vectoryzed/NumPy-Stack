{
 "cells": [
  {
   "cell_type": "code",
   "execution_count": 3,
   "metadata": {
    "collapsed": true
   },
   "outputs": [],
   "source": [
    "%matplotlib inline\n",
    "import matplotlib.pyplot as plt\n",
    "import numpy as np\n",
    "import pandas as pd\n",
    "A = pd.read_csv('../datasets/data_1d.csv', header=None).as_matrix()\n",
    "x = A[:,0]\n",
    "y = A[:,1]"
   ]
  },
  {
   "cell_type": "code",
   "execution_count": 4,
   "metadata": {},
   "outputs": [
    {
     "data": {
      "text/plain": [
       "(array([ 10.,   9.,   5.,  13.,  10.,  10.,   8.,  16.,  10.,   9.]),\n",
       " array([  3.21124861,  12.88597188,  22.56069515,  32.23541842,\n",
       "         41.91014169,  51.58486496,  61.25958823,  70.9343115 ,\n",
       "         80.60903477,  90.28375804,  99.95848131]),\n",
       " <a list of 10 Patch objects>)"
      ]
     },
     "execution_count": 4,
     "metadata": {},
     "output_type": "execute_result"
    },
    {
     "data": {
      "image/png": "[encoded data removed]",
      "text/plain": [
       "<matplotlib.figure.Figure at 0x1a5f0b9ffd0>"
      ]
     },
     "metadata": {},
     "output_type": "display_data"
    }
   ],
   "source": [
    "plt.hist(x)"
   ]
  },
  {
   "cell_type": "code",
   "execution_count": 5,
   "metadata": {
    "collapsed": true
   },
   "outputs": [],
   "source": [
    "# Can we show that np.random.random is distrubuted equally\n",
    "R = np.random.random(10000)"
   ]
  },
  {
   "cell_type": "code",
   "execution_count": 6,
   "metadata": {},
   "outputs": [
    {
     "data": {
      "text/plain": [
       "(array([  991.,  1041.,   943.,  1069.,  1015.,   952.,  1008.,   984.,\n",
       "         1027.,   970.]),\n",
       " array([  1.46046840e-04,   1.00120816e-01,   2.00095586e-01,\n",
       "          3.00070355e-01,   4.00045125e-01,   5.00019894e-01,\n",
       "          5.99994663e-01,   6.99969433e-01,   7.99944202e-01,\n",
       "          8.99918972e-01,   9.99893741e-01]),\n",
       " <a list of 10 Patch objects>)"
      ]
     },
     "execution_count": 6,
     "metadata": {},
     "output_type": "execute_result"
    },
    {
     "data": {
      "image/png": "[encoded data removed]",
      "text/plain": [
       "<matplotlib.figure.Figure at 0x1a5f16bb7f0>"
      ]
     },
     "metadata": {},
     "output_type": "display_data"
    }
   ],
   "source": [
    "plt.hist(R)"
   ]
  },
  {
   "cell_type": "code",
   "execution_count": 7,
   "metadata": {},
   "outputs": [
    {
     "data": {
      "text/plain": [
       "(array([ 493.,  498.,  548.,  493.,  462.,  481.,  515.,  554.,  494.,\n",
       "         521.,  493.,  459.,  492.,  516.,  499.,  485.,  540.,  487.,\n",
       "         487.,  483.]),\n",
       " array([  1.46046840e-04,   5.01334316e-02,   1.00120816e-01,\n",
       "          1.50108201e-01,   2.00095586e-01,   2.50082970e-01,\n",
       "          3.00070355e-01,   3.50057740e-01,   4.00045125e-01,\n",
       "          4.50032509e-01,   5.00019894e-01,   5.50007279e-01,\n",
       "          5.99994663e-01,   6.49982048e-01,   6.99969433e-01,\n",
       "          7.49956818e-01,   7.99944202e-01,   8.49931587e-01,\n",
       "          8.99918972e-01,   9.49906356e-01,   9.99893741e-01]),\n",
       " <a list of 20 Patch objects>)"
      ]
     },
     "execution_count": 7,
     "metadata": {},
     "output_type": "execute_result"
    },
    {
     "data": {
      "image/png": "[encoded data removed]",
      "text/plain": [
       "<matplotlib.figure.Figure at 0x1a5f182f0b8>"
      ]
     },
     "metadata": {},
     "output_type": "display_data"
    }
   ],
   "source": [
    "# Control the number of bins\n",
    "plt.hist(R, bins=20)"
   ]
  },
  {
   "cell_type": "code",
   "execution_count": 8,
   "metadata": {
    "collapsed": true
   },
   "outputs": [],
   "source": [
    "# Assumption: Error is normally distubuted in linear regression\n",
    "# Check that it is using a histogram\n",
    "y_actual = 2*x + 1\n",
    "residuals = y - y_actual"
   ]
  },
  {
   "cell_type": "code",
   "execution_count": 9,
   "metadata": {},
   "outputs": [
    {
     "data": {
      "text/plain": [
       "(array([  6.,   7.,  15.,  14.,  12.,  18.,  13.,   7.,   6.,   2.]),\n",
       " array([ -9.78834827,  -7.57337797,  -5.35840768,  -3.14343738,\n",
       "         -0.92846708,   1.28650321,   3.50147351,   5.7164438 ,\n",
       "          7.9314141 ,  10.14638439,  12.36135469]),\n",
       " <a list of 10 Patch objects>)"
      ]
     },
     "execution_count": 9,
     "metadata": {},
     "output_type": "execute_result"
    },
    {
     "data": {
      "image/png": "[encoded data removed]",
      "text/plain": [
       "<matplotlib.figure.Figure at 0x1a5f1860978>"
      ]
     },
     "metadata": {},
     "output_type": "display_data"
    }
   ],
   "source": [
    "plt.hist(residuals)"
   ]
  }
 ],
 "metadata": {
  "kernelspec": {
   "display_name": "Python 3",
   "language": "python",
   "name": "python3"
  },
  "language_info": {
   "codemirror_mode": {
    "name": "ipython",
    "version": 3
   },
   "file_extension": ".py",
   "mimetype": "text/x-python",
   "name": "python",
   "nbconvert_exporter": "python",
   "pygments_lexer": "ipython3",
   "version": "3.6.1"
  }
 },
 "nbformat": 4,
 "nbformat_minor": 2
}
