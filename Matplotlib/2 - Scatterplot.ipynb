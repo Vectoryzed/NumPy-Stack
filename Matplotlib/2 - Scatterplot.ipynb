{
 "cells": [
  {
   "cell_type": "code",
   "execution_count": 2,
   "metadata": {
    "collapsed": true
   },
   "outputs": [],
   "source": [
    "%matplotlib inline\n",
    "import matplotlib.pyplot as plt\n",
    "import numpy as np\n",
    "import pandas as pd"
   ]
  },
  {
   "cell_type": "code",
   "execution_count": 4,
   "metadata": {
    "collapsed": true
   },
   "outputs": [],
   "source": [
    "A = pd.read_csv('../datasets/data_1d.csv', header=None).as_matrix()"
   ]
  },
  {
   "cell_type": "code",
   "execution_count": 5,
   "metadata": {
    "scrolled": true
   },
   "outputs": [
    {
     "data": {
      "text/plain": [
       "array([[  95.72416241,  197.17963609],\n",
       "       [  35.75761893,   67.59066954],\n",
       "       [  28.81684742,   60.85413282],\n",
       "       [  99.95848131,  196.90739698],\n",
       "       [  66.80974831,  125.31112852],\n",
       "       [  58.21569264,  115.78578459],\n",
       "       [  53.82107634,  110.76277271],\n",
       "       [  81.29608217,  157.98528569],\n",
       "       [  80.64869706,  159.61941373],\n",
       "       [  78.25281369,  149.00386554],\n",
       "       [  16.86348369,   31.46759088],\n",
       "       [  90.79914756,  184.18521966],\n",
       "       [  53.31273701,  103.22061016],\n",
       "       [  71.61878902,  143.27181836],\n",
       "       [  18.41059178,   46.73641801],\n",
       "       [  57.12434676,  107.1237942 ],\n",
       "       [  81.13468392,  168.30937401],\n",
       "       [  82.01525542,  166.82994267],\n",
       "       [  36.92490825,   70.50145559],\n",
       "       [  44.58712604,   96.86937025],\n",
       "       [  26.66235446,   50.37323584],\n",
       "       [  74.06505712,  145.51917071],\n",
       "       [  17.74057673,   46.55187461],\n",
       "       [   6.81974382,   13.24378631],\n",
       "       [  26.31736009,   62.5006665 ],\n",
       "       [  82.80411905,  159.91664958],\n",
       "       [  39.44653696,   77.98420415],\n",
       "       [  76.72812059,  147.26918314],\n",
       "       [  42.21585614,   83.6452954 ],\n",
       "       [  94.35857584,  191.95607269],\n",
       "       [  42.14178513,   91.73273416],\n",
       "       [   3.21124861,    8.25141677],\n",
       "       [   6.8856734 ,   16.09638942],\n",
       "       [  13.87577216,   33.35444214],\n",
       "       [  63.29740364,  131.50574553],\n",
       "       [  60.49251936,  128.69884306],\n",
       "       [  79.60728523,  160.3103805 ],\n",
       "       [  83.44436306,  160.60324574],\n",
       "       [  54.89207011,  104.40029316],\n",
       "       [  62.04594417,  126.96945605],\n",
       "       [  66.65375794,  124.51916761],\n",
       "       [  61.31981316,  125.21741443],\n",
       "       [  47.31955299,   98.71948438],\n",
       "       [  81.1509876 ,  166.43245548],\n",
       "       [  91.02151367,  179.23687261],\n",
       "       [  16.84346201,   33.77723374],\n",
       "       [  76.50643657,  161.37296513],\n",
       "       [  71.86570468,  138.575401  ],\n",
       "       [   9.84808948,   17.90332828],\n",
       "       [  35.78971241,   74.10859171],\n",
       "       [  35.888692  ,   74.82132297],\n",
       "       [  90.82944871,  179.24154705],\n",
       "       [   7.26207284,    6.43437238],\n",
       "       [  35.35928817,   78.08635679],\n",
       "       [  79.07925376,  154.59178976],\n",
       "       [  21.55345833,   50.0307539 ],\n",
       "       [  79.47642778,  165.44196619],\n",
       "       [  48.76796664,  110.89728797],\n",
       "       [  54.79386201,  114.69188511],\n",
       "       [  87.50352552,  186.74420631],\n",
       "       [  38.94913047,   70.69722298],\n",
       "       [   9.39561282,   19.17903005],\n",
       "       [  11.12118682,   27.02295992],\n",
       "       [  46.13555826,   87.29244922],\n",
       "       [  85.69757358,  167.92461412],\n",
       "       [  50.1102964 ,   96.02054844],\n",
       "       [  11.07366673,   24.94632465],\n",
       "       [  22.22813085,   54.00414588],\n",
       "       [  67.5539548 ,  133.16525443],\n",
       "       [  12.78718566,   28.00622322],\n",
       "       [  46.96549084,  100.60558947],\n",
       "       [   4.84854065,   13.8572726 ],\n",
       "       [  40.53733193,   82.59066294],\n",
       "       [  26.33046127,   50.23180391],\n",
       "       [  38.88472635,   79.48177242],\n",
       "       [  93.83826653,  191.32431784],\n",
       "       [  60.08165997,  120.49511544],\n",
       "       [  50.11396522,  111.35232289],\n",
       "       [  17.71868528,   44.93760649],\n",
       "       [  85.07303114,  172.13320308],\n",
       "       [  41.32150973,   84.889236  ],\n",
       "       [  35.45154709,   69.91899124],\n",
       "       [  74.02102554,  149.77864633],\n",
       "       [  90.5197211 ,  187.59390974],\n",
       "       [  34.54059704,   66.32685895],\n",
       "       [  94.56166213,  189.14496411],\n",
       "       [  52.95626785,  103.44683588],\n",
       "       [  80.10643641,  158.52943007],\n",
       "       [  49.82275758,   98.69883963],\n",
       "       [  61.78172531,  122.64739506],\n",
       "       [  60.28610836,  124.76334632],\n",
       "       [  77.32069019,  155.67749312],\n",
       "       [  15.64635875,   35.41060825],\n",
       "       [  71.54061834,  151.32345871],\n",
       "       [  62.45239811,  129.43395879],\n",
       "       [  79.05983237,  163.09690261],\n",
       "       [  72.19769344,  142.89852264],\n",
       "       [  71.41775342,  148.09420854],\n",
       "       [  31.00882008,   63.79687625],\n",
       "       [  40.32528222,   86.72368533]])"
      ]
     },
     "execution_count": 5,
     "metadata": {},
     "output_type": "execute_result"
    }
   ],
   "source": [
    "A"
   ]
  },
  {
   "cell_type": "code",
   "execution_count": 6,
   "metadata": {
    "collapsed": true
   },
   "outputs": [],
   "source": [
    "x = A[:,0]\n",
    "y = A[:,1]"
   ]
  },
  {
   "cell_type": "code",
   "execution_count": 7,
   "metadata": {
    "scrolled": true
   },
   "outputs": [
    {
     "data": {
      "text/plain": [
       "array([ 95.72416241,  35.75761893,  28.81684742,  99.95848131,\n",
       "        66.80974831,  58.21569264,  53.82107634,  81.29608217,\n",
       "        80.64869706,  78.25281369,  16.86348369,  90.79914756,\n",
       "        53.31273701,  71.61878902,  18.41059178,  57.12434676,\n",
       "        81.13468392,  82.01525542,  36.92490825,  44.58712604,\n",
       "        26.66235446,  74.06505712,  17.74057673,   6.81974382,\n",
       "        26.31736009,  82.80411905,  39.44653696,  76.72812059,\n",
       "        42.21585614,  94.35857584,  42.14178513,   3.21124861,\n",
       "         6.8856734 ,  13.87577216,  63.29740364,  60.49251936,\n",
       "        79.60728523,  83.44436306,  54.89207011,  62.04594417,\n",
       "        66.65375794,  61.31981316,  47.31955299,  81.1509876 ,\n",
       "        91.02151367,  16.84346201,  76.50643657,  71.86570468,\n",
       "         9.84808948,  35.78971241,  35.888692  ,  90.82944871,\n",
       "         7.26207284,  35.35928817,  79.07925376,  21.55345833,\n",
       "        79.47642778,  48.76796664,  54.79386201,  87.50352552,\n",
       "        38.94913047,   9.39561282,  11.12118682,  46.13555826,\n",
       "        85.69757358,  50.1102964 ,  11.07366673,  22.22813085,\n",
       "        67.5539548 ,  12.78718566,  46.96549084,   4.84854065,\n",
       "        40.53733193,  26.33046127,  38.88472635,  93.83826653,\n",
       "        60.08165997,  50.11396522,  17.71868528,  85.07303114,\n",
       "        41.32150973,  35.45154709,  74.02102554,  90.5197211 ,\n",
       "        34.54059704,  94.56166213,  52.95626785,  80.10643641,\n",
       "        49.82275758,  61.78172531,  60.28610836,  77.32069019,\n",
       "        15.64635875,  71.54061834,  62.45239811,  79.05983237,\n",
       "        72.19769344,  71.41775342,  31.00882008,  40.32528222])"
      ]
     },
     "execution_count": 7,
     "metadata": {},
     "output_type": "execute_result"
    }
   ],
   "source": [
    "x"
   ]
  },
  {
   "cell_type": "code",
   "execution_count": 8,
   "metadata": {
    "scrolled": true
   },
   "outputs": [
    {
     "data": {
      "text/plain": [
       "array([ 197.17963609,   67.59066954,   60.85413282,  196.90739698,\n",
       "        125.31112852,  115.78578459,  110.76277271,  157.98528569,\n",
       "        159.61941373,  149.00386554,   31.46759088,  184.18521966,\n",
       "        103.22061016,  143.27181836,   46.73641801,  107.1237942 ,\n",
       "        168.30937401,  166.82994267,   70.50145559,   96.86937025,\n",
       "         50.37323584,  145.51917071,   46.55187461,   13.24378631,\n",
       "         62.5006665 ,  159.91664958,   77.98420415,  147.26918314,\n",
       "         83.6452954 ,  191.95607269,   91.73273416,    8.25141677,\n",
       "         16.09638942,   33.35444214,  131.50574553,  128.69884306,\n",
       "        160.3103805 ,  160.60324574,  104.40029316,  126.96945605,\n",
       "        124.51916761,  125.21741443,   98.71948438,  166.43245548,\n",
       "        179.23687261,   33.77723374,  161.37296513,  138.575401  ,\n",
       "         17.90332828,   74.10859171,   74.82132297,  179.24154705,\n",
       "          6.43437238,   78.08635679,  154.59178976,   50.0307539 ,\n",
       "        165.44196619,  110.89728797,  114.69188511,  186.74420631,\n",
       "         70.69722298,   19.17903005,   27.02295992,   87.29244922,\n",
       "        167.92461412,   96.02054844,   24.94632465,   54.00414588,\n",
       "        133.16525443,   28.00622322,  100.60558947,   13.8572726 ,\n",
       "         82.59066294,   50.23180391,   79.48177242,  191.32431784,\n",
       "        120.49511544,  111.35232289,   44.93760649,  172.13320308,\n",
       "         84.889236  ,   69.91899124,  149.77864633,  187.59390974,\n",
       "         66.32685895,  189.14496411,  103.44683588,  158.52943007,\n",
       "         98.69883963,  122.64739506,  124.76334632,  155.67749312,\n",
       "         35.41060825,  151.32345871,  129.43395879,  163.09690261,\n",
       "        142.89852264,  148.09420854,   63.79687625,   86.72368533])"
      ]
     },
     "execution_count": 8,
     "metadata": {},
     "output_type": "execute_result"
    }
   ],
   "source": [
    "y"
   ]
  },
  {
   "cell_type": "code",
   "execution_count": 9,
   "metadata": {},
   "outputs": [
    {
     "data": {
      "text/plain": [
       "<matplotlib.collections.PathCollection at 0x24467c76a20>"
      ]
     },
     "execution_count": 9,
     "metadata": {},
     "output_type": "execute_result"
    },
    {
     "data": {
      "image/png": "[encoded data removed]",
      "text/plain": [
       "<matplotlib.figure.Figure at 0x24467b3d8d0>"
      ]
     },
     "metadata": {},
     "output_type": "display_data"
    }
   ],
   "source": [
    "plt.scatter(x,y)"
   ]
  },
  {
   "cell_type": "code",
   "execution_count": 11,
   "metadata": {},
   "outputs": [
    {
     "data": {
      "text/plain": [
       "<matplotlib.collections.PathCollection at 0x24467d67278>"
      ]
     },
     "execution_count": 11,
     "metadata": {},
     "output_type": "execute_result"
    },
    {
     "data": {
      "image/png": "[encoded data removed]",
      "text/plain": [
       "<matplotlib.figure.Figure at 0x24467d67a90>"
      ]
     },
     "metadata": {},
     "output_type": "display_data"
    }
   ],
   "source": [
    "# Plot a line on plot\n",
    "x_line = np.linspace(0, 100, 100)\n",
    "y_line = 2*x_line + 1\n",
    "plt.plot(x_line, y_line)\n",
    "plt.scatter(x, y)"
   ]
  }
 ],
 "metadata": {
  "kernelspec": {
   "display_name": "Python 3",
   "language": "python",
   "name": "python3"
  },
  "language_info": {
   "codemirror_mode": {
    "name": "ipython",
    "version": 3
   },
   "file_extension": ".py",
   "mimetype": "text/x-python",
   "name": "python",
   "nbconvert_exporter": "python",
   "pygments_lexer": "ipython3",
   "version": "3.6.1"
  }
 },
 "nbformat": 4,
 "nbformat_minor": 2
}
