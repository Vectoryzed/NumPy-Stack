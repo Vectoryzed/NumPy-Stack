{
 "cells": [
  {
   "cell_type": "markdown",
   "metadata": {},
   "source": [
    "Matrix Products:\n",
    "\n",
    " - \"Matrix Multiplication\"\n",
    " - Requirement: Inner dimensions must match\n",
    "   - If we have A size of (2,3) and B size of (3,3)\n",
    "   - Can multiply AB (inner dimension is 3)\n",
    "   - Can **not** multiply BA (inner dimension is 3,2)\n",
    " - (i, j)th entry of C is the dot product of row A(i:) and column B(:,j)\n",
    " - In numpy: C = A.dot(B)"
   ]
  }
 ],
 "metadata": {
  "kernelspec": {
   "display_name": "Python 3",
   "language": "python",
   "name": "python3"
  },
  "language_info": {
   "codemirror_mode": {
    "name": "ipython",
    "version": 3
   },
   "file_extension": ".py",
   "mimetype": "text/x-python",
   "name": "python",
   "nbconvert_exporter": "python",
   "pygments_lexer": "ipython3",
   "version": "3.6.1"
  }
 },
 "nbformat": 4,
 "nbformat_minor": 2
}
